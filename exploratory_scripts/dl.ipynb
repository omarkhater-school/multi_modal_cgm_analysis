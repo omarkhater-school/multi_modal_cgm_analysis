{
 "cells": [
  {
   "cell_type": "code",
   "execution_count": 72,
   "metadata": {},
   "outputs": [],
   "source": [
    "import json\n",
    "from datetime import datetime\n",
    "import numpy as np\n",
    "import pandas as pd\n",
    "import ast\n",
    "import matplotlib.pyplot as plt\n",
    "import seaborn as sns\n",
    "import torch\n",
    "import torch.nn as nn\n",
    "from torch.utils.data import DataLoader,Dataset\n",
    "def datacsv2dl(img,cgm,viome,lbl):\n",
    "    class dataset(Dataset):\n",
    "        def __init__(self, data, labels):\n",
    "            self.data = data\n",
    "            self.labels = labels\n",
    "\n",
    "        def __len__(self):\n",
    "            return len(self.data)\n",
    "\n",
    "        def __getitem__(self, idx):\n",
    "            d = torch.tensor(self.data.iloc[idx][self.data.columns.difference(['Subject ID','Day'])])\n",
    "            label = torch.tensor(self.labels.iloc[idx][self.labels.difference(['Subject ID','Day'])], dtype=torch.int32)\n",
    "            return d, label\n",
    "    \n",
    "    img_data = pd.read_csv(img)\n",
    "    img_data['Image Before Breakfast'] = img_data['Image Before Breakfast'].apply(ast.literal_eval).apply(np.array)\n",
    "    img_data['Image Before Lunch'] = img_data['Image Before Lunch'].apply(ast.literal_eval).apply(np.array)\n",
    "\n",
    "    cgm_data = pd.read_csv(cgm)\n",
    "    cgm_data['Breakfast Time'] = pd.to_datetime(cgm_data['Breakfast Time'], errors='coerce')\n",
    "    cgm_data['Lunch Time'] = pd.to_datetime(cgm_data['Lunch Time'], errors='coerce')\n",
    "    cgm_data['CGM Data'] = cgm_data['CGM Data'].apply(ast.literal_eval)\n",
    "    for _, row in cgm_data.iterrows():\n",
    "        for i, t in enumerate(row['CGM Data']):\n",
    "            row['CGM Data'][i] = (datetime.strptime(t[0], '%Y-%m-%d %H:%M:%S'), t[1:])\n",
    "\n",
    "    viome_data = pd.read_csv(viome)\n",
    "    viome_data['Viome'] = viome_data['Viome'].apply(ast.literal_eval).apply(np.array)\n",
    "\n",
    "    data = img_data.merge(cgm_data, on=['Subject ID','Day'])\n",
    "    data = data.merge(viome_data, on=['Subject ID'])\n",
    "\n",
    "    labels = pd.read_csv(lbl)\n",
    "    if lbl[-8:]=='only.csv':\n",
    "        labels = data.merge(labels, on=['Subject ID','Day'])[['Breakfast Calories','Breakfast Carbs','Breakfast Fat','Breakfast Protein']]\n",
    "    else:\n",
    "        labels = data.merge(labels, on=['Subject ID','Day'])[['Breakfast Calories','Lunch Calories','Breakfast Carbs','Lunch Carbs','Breakfast Fat','Lunch Fat','Breakfast Protein','Lunch Protein']]\n",
    "    \n",
    "    ds = dataset(data,labels)\n",
    "    return DataLoader(ds, batch_size=32, shuffle=True)"
   ]
  },
  {
   "cell_type": "code",
   "execution_count": 73,
   "metadata": {},
   "outputs": [],
   "source": [
    "train_loader = datacsv2dl('data/img_train.csv','data/cgm_train.csv','data/demo_viome_train.csv','data/label_train.csv')\n",
    "test_loader = datacsv2dl('data/img_test.csv','data/cgm_test.csv','data/demo_viome_test.csv','data/label_test_breakfast_only.csv')\n"
   ]
  }
 ],
 "metadata": {
  "kernelspec": {
   "display_name": "Python 3",
   "language": "python",
   "name": "python3"
  },
  "language_info": {
   "codemirror_mode": {
    "name": "ipython",
    "version": 3
   },
   "file_extension": ".py",
   "mimetype": "text/x-python",
   "name": "python",
   "nbconvert_exporter": "python",
   "pygments_lexer": "ipython3",
   "version": "3.12.3"
  }
 },
 "nbformat": 4,
 "nbformat_minor": 2
}
