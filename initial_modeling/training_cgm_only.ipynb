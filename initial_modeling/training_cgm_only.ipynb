{
 "cells": [
  {
   "cell_type": "code",
   "execution_count": 1,
   "metadata": {},
   "outputs": [],
   "source": [
    "from cgm_pp_helpers import read_cgm_data, CGMDataPipeline\n",
    "import pandas as pd\n",
    "from sklearn.model_selection import train_test_split\n",
    "from sklearn.linear_model import LinearRegression\n",
    "from sklearn.metrics import mean_squared_error, mean_absolute_error, r2_score\n",
    "%load_ext autoreload\n",
    "%autoreload 2"
   ]
  },
  {
   "cell_type": "markdown",
   "metadata": {},
   "source": [
    "## Data Preparation"
   ]
  },
  {
   "cell_type": "markdown",
   "metadata": {},
   "source": [
    "### Importing"
   ]
  },
  {
   "cell_type": "code",
   "execution_count": 2,
   "metadata": {},
   "outputs": [],
   "source": [
    "cgm_train = read_cgm_data(\"../data/cgm_train.csv\")\n",
    "cgm_test = read_cgm_data(\"../data/cgm_test.csv\")\n",
    "label_train = pd.read_csv(\"../data/label_train.csv\")\n",
    "label_test = pd.read_csv(\"../data/label_test_breakfast_only.csv\")"
   ]
  },
  {
   "cell_type": "code",
   "execution_count": 3,
   "metadata": {},
   "outputs": [
    {
     "name": "stdout",
     "output_type": "stream",
     "text": [
      "<class 'pandas.core.frame.DataFrame'>\n",
      "RangeIndex: 324 entries, 0 to 323\n",
      "Data columns (total 10 columns):\n",
      " #   Column              Non-Null Count  Dtype  \n",
      "---  ------              --------------  -----  \n",
      " 0   Subject ID          324 non-null    int64  \n",
      " 1   Day                 324 non-null    int64  \n",
      " 2   Breakfast Calories  324 non-null    float64\n",
      " 3   Lunch Calories      324 non-null    int64  \n",
      " 4   Breakfast Carbs     324 non-null    float64\n",
      " 5   Lunch Carbs         324 non-null    int64  \n",
      " 6   Breakfast Fat       324 non-null    float64\n",
      " 7   Lunch Fat           324 non-null    float64\n",
      " 8   Breakfast Protein   324 non-null    float64\n",
      " 9   Lunch Protein       324 non-null    int64  \n",
      "dtypes: float64(5), int64(5)\n",
      "memory usage: 25.4 KB\n"
     ]
    }
   ],
   "source": [
    "label_train.info()"
   ]
  },
  {
   "cell_type": "markdown",
   "metadata": {},
   "source": [
    "### Processing pipeline"
   ]
  },
  {
   "cell_type": "code",
   "execution_count": 4,
   "metadata": {},
   "outputs": [
    {
     "name": "stdout",
     "output_type": "stream",
     "text": [
      "Step 1: Handling empty CGM data...\n",
      "Subject ID: 26, Dropped Days: [6, 7] due to missing CGM data (empty list)\n",
      "Subject ID: 32, Dropped Days: [3] due to missing CGM data (empty list)\n",
      "Subject ID: 33, Dropped Days: [2] due to missing CGM data (empty list)\n",
      "Subject ID: 42, Dropped Days: [8] due to missing CGM data (empty list)\n",
      "\n",
      "Step 2: Handling missing meal times (fit)...\n",
      "\n",
      "Step 3: Expanding CGM data...\n",
      "\n",
      "Step 4: Calculating and aggregating meal features (breakfast and lunch)...\n",
      "Subjects with no data around breakfast windows of 2 hours:\n",
      "Subject ID: 13, Missing Breakfast Days: [9]\n",
      "Subject ID: 19, Missing Breakfast Days: [6]\n",
      "Subject ID: 26, Missing Breakfast Days: [3]\n",
      "Subject ID: 30, Missing Breakfast Days: [2, 5]\n",
      "Subject ID: 35, Missing Breakfast Days: [2]\n",
      "Subject ID: 38, Missing Breakfast Days: [2]\n",
      "Subject ID: 42, Missing Breakfast Days: [9]\n",
      "Subject ID: 49, Missing Breakfast Days: [7]\n",
      "\n",
      "Subjects with no data around lunch windows of 2 hours:\n",
      "Subject ID: 29, Missing Lunch Days: [2]\n",
      "Subject ID: 32, Missing Lunch Days: [9]\n",
      "Subject ID: 35, Missing Lunch Days: [9]\n",
      "Subject ID: 44, Missing Lunch Days: [7]\n",
      "\n",
      "Step 5: Dropping rows with missing features...\n",
      "Rows remaining after dropping missing features: 306\n"
     ]
    }
   ],
   "source": [
    "pp = CGMDataPipeline()\n",
    "cgm_train_features = pp.fit_transform(cgm_train)"
   ]
  },
  {
   "cell_type": "code",
   "execution_count": 20,
   "metadata": {},
   "outputs": [
    {
     "name": "stdout",
     "output_type": "stream",
     "text": [
      "Step 1: Handling empty CGM data...\n",
      "\n",
      "Step 2: Handling missing meal times (fit)...\n",
      "\n",
      "Step 3: Expanding CGM data...\n",
      "\n",
      "Step 4: Calculating and aggregating meal features (breakfast and lunch)...\n"
     ]
    }
   ],
   "source": [
    "cgm_test_features = pp.fit_transform(cgm_test, dropna = False, method = 3)"
   ]
  },
  {
   "cell_type": "code",
   "execution_count": 6,
   "metadata": {},
   "outputs": [
    {
     "name": "stdout",
     "output_type": "stream",
     "text": [
      "<class 'pandas.core.frame.DataFrame'>\n",
      "Index: 306 entries, 0 to 318\n",
      "Data columns (total 14 columns):\n",
      " #   Column                    Non-Null Count  Dtype  \n",
      "---  ------                    --------------  -----  \n",
      " 0   Subject ID                306 non-null    int64  \n",
      " 1   Day                       306 non-null    int64  \n",
      " 2   Breakfast_mean            306 non-null    float64\n",
      " 3   Breakfast_std             306 non-null    float64\n",
      " 4   Breakfast_min             306 non-null    float64\n",
      " 5   Breakfast_max             306 non-null    float64\n",
      " 6   Breakfast_auc             306 non-null    float64\n",
      " 7   Breakfast_rate_of_change  306 non-null    float64\n",
      " 8   Lunch_mean                306 non-null    float64\n",
      " 9   Lunch_std                 306 non-null    float64\n",
      " 10  Lunch_min                 306 non-null    float64\n",
      " 11  Lunch_max                 306 non-null    float64\n",
      " 12  Lunch_auc                 306 non-null    float64\n",
      " 13  Lunch_rate_of_change      306 non-null    float64\n",
      "dtypes: float64(12), int64(2)\n",
      "memory usage: 35.9 KB\n"
     ]
    }
   ],
   "source": [
    "cgm_train_features.info()"
   ]
  },
  {
   "cell_type": "code",
   "execution_count": 7,
   "metadata": {},
   "outputs": [
    {
     "name": "stdout",
     "output_type": "stream",
     "text": [
      "<class 'pandas.core.frame.DataFrame'>\n",
      "RangeIndex: 73 entries, 0 to 72\n",
      "Data columns (total 14 columns):\n",
      " #   Column                    Non-Null Count  Dtype  \n",
      "---  ------                    --------------  -----  \n",
      " 0   Subject ID                73 non-null     int64  \n",
      " 1   Day                       73 non-null     int64  \n",
      " 2   Breakfast_mean            65 non-null     float64\n",
      " 3   Breakfast_std             65 non-null     float64\n",
      " 4   Breakfast_min             65 non-null     float64\n",
      " 5   Breakfast_max             65 non-null     float64\n",
      " 6   Breakfast_auc             65 non-null     float64\n",
      " 7   Breakfast_rate_of_change  65 non-null     float64\n",
      " 8   Lunch_mean                73 non-null     float64\n",
      " 9   Lunch_std                 73 non-null     float64\n",
      " 10  Lunch_min                 73 non-null     float64\n",
      " 11  Lunch_max                 73 non-null     float64\n",
      " 12  Lunch_auc                 73 non-null     float64\n",
      " 13  Lunch_rate_of_change      73 non-null     float64\n",
      "dtypes: float64(12), int64(2)\n",
      "memory usage: 8.1 KB\n"
     ]
    }
   ],
   "source": [
    "cgm_test_features.info()"
   ]
  },
  {
   "cell_type": "code",
   "execution_count": 8,
   "metadata": {},
   "outputs": [],
   "source": [
    "training_data = pd.merge(cgm_train_features, label_train, on = [\"Subject ID\", \"Day\"])"
   ]
  },
  {
   "cell_type": "code",
   "execution_count": 9,
   "metadata": {},
   "outputs": [],
   "source": [
    "test_data = pd.merge(cgm_test_features, label_test, on = [\"Subject ID\", \"Day\"])"
   ]
  },
  {
   "cell_type": "code",
   "execution_count": 10,
   "metadata": {},
   "outputs": [
    {
     "data": {
      "text/html": [
       "<div>\n",
       "<style scoped>\n",
       "    .dataframe tbody tr th:only-of-type {\n",
       "        vertical-align: middle;\n",
       "    }\n",
       "\n",
       "    .dataframe tbody tr th {\n",
       "        vertical-align: top;\n",
       "    }\n",
       "\n",
       "    .dataframe thead th {\n",
       "        text-align: right;\n",
       "    }\n",
       "</style>\n",
       "<table border=\"1\" class=\"dataframe\">\n",
       "  <thead>\n",
       "    <tr style=\"text-align: right;\">\n",
       "      <th></th>\n",
       "      <th>Subject ID</th>\n",
       "      <th>Day</th>\n",
       "      <th>Breakfast_mean</th>\n",
       "      <th>Breakfast_std</th>\n",
       "      <th>Breakfast_min</th>\n",
       "      <th>Breakfast_max</th>\n",
       "      <th>Breakfast_auc</th>\n",
       "      <th>Breakfast_rate_of_change</th>\n",
       "      <th>Lunch_mean</th>\n",
       "      <th>Lunch_std</th>\n",
       "      <th>...</th>\n",
       "      <th>Lunch_auc</th>\n",
       "      <th>Lunch_rate_of_change</th>\n",
       "      <th>Breakfast Calories</th>\n",
       "      <th>Lunch Calories</th>\n",
       "      <th>Breakfast Carbs</th>\n",
       "      <th>Lunch Carbs</th>\n",
       "      <th>Breakfast Fat</th>\n",
       "      <th>Lunch Fat</th>\n",
       "      <th>Breakfast Protein</th>\n",
       "      <th>Lunch Protein</th>\n",
       "    </tr>\n",
       "  </thead>\n",
       "  <tbody>\n",
       "    <tr>\n",
       "      <th>0</th>\n",
       "      <td>1</td>\n",
       "      <td>2</td>\n",
       "      <td>99.084001</td>\n",
       "      <td>26.936086</td>\n",
       "      <td>45.183333</td>\n",
       "      <td>141.816667</td>\n",
       "      <td>2784.877696</td>\n",
       "      <td>-0.693452</td>\n",
       "      <td>85.813542</td>\n",
       "      <td>22.279849</td>\n",
       "      <td>...</td>\n",
       "      <td>4057.091667</td>\n",
       "      <td>0.655674</td>\n",
       "      <td>448.0</td>\n",
       "      <td>830</td>\n",
       "      <td>66.0</td>\n",
       "      <td>92</td>\n",
       "      <td>10.5</td>\n",
       "      <td>42.0</td>\n",
       "      <td>22.0</td>\n",
       "      <td>17</td>\n",
       "    </tr>\n",
       "    <tr>\n",
       "      <th>1</th>\n",
       "      <td>1</td>\n",
       "      <td>3</td>\n",
       "      <td>97.482426</td>\n",
       "      <td>9.015236</td>\n",
       "      <td>87.183333</td>\n",
       "      <td>118.083333</td>\n",
       "      <td>3123.236709</td>\n",
       "      <td>-0.218750</td>\n",
       "      <td>97.615556</td>\n",
       "      <td>3.300128</td>\n",
       "      <td>...</td>\n",
       "      <td>2833.375000</td>\n",
       "      <td>0.225862</td>\n",
       "      <td>608.0</td>\n",
       "      <td>435</td>\n",
       "      <td>66.0</td>\n",
       "      <td>16</td>\n",
       "      <td>10.5</td>\n",
       "      <td>14.0</td>\n",
       "      <td>66.0</td>\n",
       "      <td>66</td>\n",
       "    </tr>\n",
       "    <tr>\n",
       "      <th>2</th>\n",
       "      <td>1</td>\n",
       "      <td>4</td>\n",
       "      <td>114.275309</td>\n",
       "      <td>13.533432</td>\n",
       "      <td>95.450000</td>\n",
       "      <td>139.900000</td>\n",
       "      <td>2984.025000</td>\n",
       "      <td>-0.458333</td>\n",
       "      <td>108.017361</td>\n",
       "      <td>12.706781</td>\n",
       "      <td>...</td>\n",
       "      <td>5078.241667</td>\n",
       "      <td>0.195390</td>\n",
       "      <td>712.0</td>\n",
       "      <td>555</td>\n",
       "      <td>66.0</td>\n",
       "      <td>94</td>\n",
       "      <td>42.0</td>\n",
       "      <td>13.0</td>\n",
       "      <td>22.0</td>\n",
       "      <td>12</td>\n",
       "    </tr>\n",
       "    <tr>\n",
       "      <th>3</th>\n",
       "      <td>1</td>\n",
       "      <td>5</td>\n",
       "      <td>109.570115</td>\n",
       "      <td>10.484334</td>\n",
       "      <td>89.366667</td>\n",
       "      <td>126.000000</td>\n",
       "      <td>3076.933333</td>\n",
       "      <td>-0.477381</td>\n",
       "      <td>99.329932</td>\n",
       "      <td>6.383248</td>\n",
       "      <td>...</td>\n",
       "      <td>4774.483333</td>\n",
       "      <td>-0.229167</td>\n",
       "      <td>902.0</td>\n",
       "      <td>355</td>\n",
       "      <td>73.0</td>\n",
       "      <td>19</td>\n",
       "      <td>42.0</td>\n",
       "      <td>15.0</td>\n",
       "      <td>66.0</td>\n",
       "      <td>32</td>\n",
       "    </tr>\n",
       "    <tr>\n",
       "      <th>4</th>\n",
       "      <td>1</td>\n",
       "      <td>6</td>\n",
       "      <td>107.497972</td>\n",
       "      <td>7.850691</td>\n",
       "      <td>94.190000</td>\n",
       "      <td>124.633333</td>\n",
       "      <td>2798.445238</td>\n",
       "      <td>0.076923</td>\n",
       "      <td>106.885278</td>\n",
       "      <td>4.551785</td>\n",
       "      <td>...</td>\n",
       "      <td>5024.651667</td>\n",
       "      <td>-0.089149</td>\n",
       "      <td>268.0</td>\n",
       "      <td>1180</td>\n",
       "      <td>24.0</td>\n",
       "      <td>81</td>\n",
       "      <td>10.5</td>\n",
       "      <td>54.5</td>\n",
       "      <td>22.0</td>\n",
       "      <td>88</td>\n",
       "    </tr>\n",
       "  </tbody>\n",
       "</table>\n",
       "<p>5 rows × 22 columns</p>\n",
       "</div>"
      ],
      "text/plain": [
       "   Subject ID  Day  Breakfast_mean  Breakfast_std  Breakfast_min  \\\n",
       "0           1    2       99.084001      26.936086      45.183333   \n",
       "1           1    3       97.482426       9.015236      87.183333   \n",
       "2           1    4      114.275309      13.533432      95.450000   \n",
       "3           1    5      109.570115      10.484334      89.366667   \n",
       "4           1    6      107.497972       7.850691      94.190000   \n",
       "\n",
       "   Breakfast_max  Breakfast_auc  Breakfast_rate_of_change  Lunch_mean  \\\n",
       "0     141.816667    2784.877696                 -0.693452   85.813542   \n",
       "1     118.083333    3123.236709                 -0.218750   97.615556   \n",
       "2     139.900000    2984.025000                 -0.458333  108.017361   \n",
       "3     126.000000    3076.933333                 -0.477381   99.329932   \n",
       "4     124.633333    2798.445238                  0.076923  106.885278   \n",
       "\n",
       "   Lunch_std  ...    Lunch_auc  Lunch_rate_of_change  Breakfast Calories  \\\n",
       "0  22.279849  ...  4057.091667              0.655674               448.0   \n",
       "1   3.300128  ...  2833.375000              0.225862               608.0   \n",
       "2  12.706781  ...  5078.241667              0.195390               712.0   \n",
       "3   6.383248  ...  4774.483333             -0.229167               902.0   \n",
       "4   4.551785  ...  5024.651667             -0.089149               268.0   \n",
       "\n",
       "   Lunch Calories  Breakfast Carbs  Lunch Carbs  Breakfast Fat  Lunch Fat  \\\n",
       "0             830             66.0           92           10.5       42.0   \n",
       "1             435             66.0           16           10.5       14.0   \n",
       "2             555             66.0           94           42.0       13.0   \n",
       "3             355             73.0           19           42.0       15.0   \n",
       "4            1180             24.0           81           10.5       54.5   \n",
       "\n",
       "   Breakfast Protein  Lunch Protein  \n",
       "0               22.0             17  \n",
       "1               66.0             66  \n",
       "2               22.0             12  \n",
       "3               66.0             32  \n",
       "4               22.0             88  \n",
       "\n",
       "[5 rows x 22 columns]"
      ]
     },
     "execution_count": 10,
     "metadata": {},
     "output_type": "execute_result"
    }
   ],
   "source": [
    "training_data.head()"
   ]
  },
  {
   "cell_type": "code",
   "execution_count": 11,
   "metadata": {},
   "outputs": [
    {
     "name": "stdout",
     "output_type": "stream",
     "text": [
      "<class 'pandas.core.frame.DataFrame'>\n",
      "RangeIndex: 306 entries, 0 to 305\n",
      "Data columns (total 22 columns):\n",
      " #   Column                    Non-Null Count  Dtype  \n",
      "---  ------                    --------------  -----  \n",
      " 0   Subject ID                306 non-null    int64  \n",
      " 1   Day                       306 non-null    int64  \n",
      " 2   Breakfast_mean            306 non-null    float64\n",
      " 3   Breakfast_std             306 non-null    float64\n",
      " 4   Breakfast_min             306 non-null    float64\n",
      " 5   Breakfast_max             306 non-null    float64\n",
      " 6   Breakfast_auc             306 non-null    float64\n",
      " 7   Breakfast_rate_of_change  306 non-null    float64\n",
      " 8   Lunch_mean                306 non-null    float64\n",
      " 9   Lunch_std                 306 non-null    float64\n",
      " 10  Lunch_min                 306 non-null    float64\n",
      " 11  Lunch_max                 306 non-null    float64\n",
      " 12  Lunch_auc                 306 non-null    float64\n",
      " 13  Lunch_rate_of_change      306 non-null    float64\n",
      " 14  Breakfast Calories        306 non-null    float64\n",
      " 15  Lunch Calories            306 non-null    int64  \n",
      " 16  Breakfast Carbs           306 non-null    float64\n",
      " 17  Lunch Carbs               306 non-null    int64  \n",
      " 18  Breakfast Fat             306 non-null    float64\n",
      " 19  Lunch Fat                 306 non-null    float64\n",
      " 20  Breakfast Protein         306 non-null    float64\n",
      " 21  Lunch Protein             306 non-null    int64  \n",
      "dtypes: float64(17), int64(5)\n",
      "memory usage: 52.7 KB\n"
     ]
    }
   ],
   "source": [
    "training_data.info()"
   ]
  },
  {
   "cell_type": "code",
   "execution_count": 12,
   "metadata": {},
   "outputs": [
    {
     "data": {
      "text/html": [
       "<div>\n",
       "<style scoped>\n",
       "    .dataframe tbody tr th:only-of-type {\n",
       "        vertical-align: middle;\n",
       "    }\n",
       "\n",
       "    .dataframe tbody tr th {\n",
       "        vertical-align: top;\n",
       "    }\n",
       "\n",
       "    .dataframe thead th {\n",
       "        text-align: right;\n",
       "    }\n",
       "</style>\n",
       "<table border=\"1\" class=\"dataframe\">\n",
       "  <thead>\n",
       "    <tr style=\"text-align: right;\">\n",
       "      <th></th>\n",
       "      <th>Subject ID</th>\n",
       "      <th>Day</th>\n",
       "      <th>Breakfast_mean</th>\n",
       "      <th>Breakfast_std</th>\n",
       "      <th>Breakfast_min</th>\n",
       "      <th>Breakfast_max</th>\n",
       "      <th>Breakfast_auc</th>\n",
       "      <th>Breakfast_rate_of_change</th>\n",
       "      <th>Lunch_mean</th>\n",
       "      <th>Lunch_std</th>\n",
       "      <th>Lunch_min</th>\n",
       "      <th>Lunch_max</th>\n",
       "      <th>Lunch_auc</th>\n",
       "      <th>Lunch_rate_of_change</th>\n",
       "      <th>Breakfast Calories</th>\n",
       "      <th>Breakfast Carbs</th>\n",
       "      <th>Breakfast Fat</th>\n",
       "      <th>Breakfast Protein</th>\n",
       "    </tr>\n",
       "  </thead>\n",
       "  <tbody>\n",
       "    <tr>\n",
       "      <th>0</th>\n",
       "      <td>4</td>\n",
       "      <td>2</td>\n",
       "      <td>170.747333</td>\n",
       "      <td>26.603114</td>\n",
       "      <td>114.683333</td>\n",
       "      <td>208.136667</td>\n",
       "      <td>4146.230000</td>\n",
       "      <td>0.647500</td>\n",
       "      <td>112.462847</td>\n",
       "      <td>20.510459</td>\n",
       "      <td>88.273333</td>\n",
       "      <td>153.000000</td>\n",
       "      <td>5271.968333</td>\n",
       "      <td>-0.759078</td>\n",
       "      <td>448.0</td>\n",
       "      <td>66.0</td>\n",
       "      <td>10.5</td>\n",
       "      <td>22.0</td>\n",
       "    </tr>\n",
       "    <tr>\n",
       "      <th>1</th>\n",
       "      <td>4</td>\n",
       "      <td>3</td>\n",
       "      <td>134.760267</td>\n",
       "      <td>18.795275</td>\n",
       "      <td>103.000000</td>\n",
       "      <td>163.000000</td>\n",
       "      <td>3252.416667</td>\n",
       "      <td>1.132500</td>\n",
       "      <td>99.090694</td>\n",
       "      <td>8.685806</td>\n",
       "      <td>88.000000</td>\n",
       "      <td>130.180000</td>\n",
       "      <td>4642.763333</td>\n",
       "      <td>-0.705957</td>\n",
       "      <td>608.0</td>\n",
       "      <td>66.0</td>\n",
       "      <td>10.5</td>\n",
       "      <td>66.0</td>\n",
       "    </tr>\n",
       "    <tr>\n",
       "      <th>2</th>\n",
       "      <td>4</td>\n",
       "      <td>6</td>\n",
       "      <td>106.430800</td>\n",
       "      <td>19.939555</td>\n",
       "      <td>87.000000</td>\n",
       "      <td>141.453333</td>\n",
       "      <td>2569.065000</td>\n",
       "      <td>-0.392083</td>\n",
       "      <td>106.486944</td>\n",
       "      <td>20.453546</td>\n",
       "      <td>85.136667</td>\n",
       "      <td>134.863333</td>\n",
       "      <td>5006.941667</td>\n",
       "      <td>0.699220</td>\n",
       "      <td>268.0</td>\n",
       "      <td>24.0</td>\n",
       "      <td>10.5</td>\n",
       "      <td>22.0</td>\n",
       "    </tr>\n",
       "    <tr>\n",
       "      <th>3</th>\n",
       "      <td>4</td>\n",
       "      <td>7</td>\n",
       "      <td>140.510769</td>\n",
       "      <td>23.328257</td>\n",
       "      <td>95.000000</td>\n",
       "      <td>165.000000</td>\n",
       "      <td>3543.258333</td>\n",
       "      <td>1.201733</td>\n",
       "      <td>112.351181</td>\n",
       "      <td>23.985536</td>\n",
       "      <td>80.000000</td>\n",
       "      <td>153.043333</td>\n",
       "      <td>5249.540000</td>\n",
       "      <td>-0.413901</td>\n",
       "      <td>448.0</td>\n",
       "      <td>66.0</td>\n",
       "      <td>10.5</td>\n",
       "      <td>22.0</td>\n",
       "    </tr>\n",
       "    <tr>\n",
       "      <th>4</th>\n",
       "      <td>4</td>\n",
       "      <td>8</td>\n",
       "      <td>120.426923</td>\n",
       "      <td>12.026732</td>\n",
       "      <td>94.136667</td>\n",
       "      <td>139.863333</td>\n",
       "      <td>3022.031667</td>\n",
       "      <td>1.194533</td>\n",
       "      <td>98.394792</td>\n",
       "      <td>13.873721</td>\n",
       "      <td>81.136667</td>\n",
       "      <td>124.000000</td>\n",
       "      <td>4611.313333</td>\n",
       "      <td>-0.355887</td>\n",
       "      <td>608.0</td>\n",
       "      <td>66.0</td>\n",
       "      <td>10.5</td>\n",
       "      <td>66.0</td>\n",
       "    </tr>\n",
       "  </tbody>\n",
       "</table>\n",
       "</div>"
      ],
      "text/plain": [
       "   Subject ID  Day  Breakfast_mean  Breakfast_std  Breakfast_min  \\\n",
       "0           4    2      170.747333      26.603114     114.683333   \n",
       "1           4    3      134.760267      18.795275     103.000000   \n",
       "2           4    6      106.430800      19.939555      87.000000   \n",
       "3           4    7      140.510769      23.328257      95.000000   \n",
       "4           4    8      120.426923      12.026732      94.136667   \n",
       "\n",
       "   Breakfast_max  Breakfast_auc  Breakfast_rate_of_change  Lunch_mean  \\\n",
       "0     208.136667    4146.230000                  0.647500  112.462847   \n",
       "1     163.000000    3252.416667                  1.132500   99.090694   \n",
       "2     141.453333    2569.065000                 -0.392083  106.486944   \n",
       "3     165.000000    3543.258333                  1.201733  112.351181   \n",
       "4     139.863333    3022.031667                  1.194533   98.394792   \n",
       "\n",
       "   Lunch_std  Lunch_min   Lunch_max    Lunch_auc  Lunch_rate_of_change  \\\n",
       "0  20.510459  88.273333  153.000000  5271.968333             -0.759078   \n",
       "1   8.685806  88.000000  130.180000  4642.763333             -0.705957   \n",
       "2  20.453546  85.136667  134.863333  5006.941667              0.699220   \n",
       "3  23.985536  80.000000  153.043333  5249.540000             -0.413901   \n",
       "4  13.873721  81.136667  124.000000  4611.313333             -0.355887   \n",
       "\n",
       "   Breakfast Calories  Breakfast Carbs  Breakfast Fat  Breakfast Protein  \n",
       "0               448.0             66.0           10.5               22.0  \n",
       "1               608.0             66.0           10.5               66.0  \n",
       "2               268.0             24.0           10.5               22.0  \n",
       "3               448.0             66.0           10.5               22.0  \n",
       "4               608.0             66.0           10.5               66.0  "
      ]
     },
     "execution_count": 12,
     "metadata": {},
     "output_type": "execute_result"
    }
   ],
   "source": [
    "test_data.head()"
   ]
  },
  {
   "cell_type": "code",
   "execution_count": 13,
   "metadata": {},
   "outputs": [
    {
     "name": "stdout",
     "output_type": "stream",
     "text": [
      "<class 'pandas.core.frame.DataFrame'>\n",
      "RangeIndex: 73 entries, 0 to 72\n",
      "Data columns (total 18 columns):\n",
      " #   Column                    Non-Null Count  Dtype  \n",
      "---  ------                    --------------  -----  \n",
      " 0   Subject ID                73 non-null     int64  \n",
      " 1   Day                       73 non-null     int64  \n",
      " 2   Breakfast_mean            65 non-null     float64\n",
      " 3   Breakfast_std             65 non-null     float64\n",
      " 4   Breakfast_min             65 non-null     float64\n",
      " 5   Breakfast_max             65 non-null     float64\n",
      " 6   Breakfast_auc             65 non-null     float64\n",
      " 7   Breakfast_rate_of_change  65 non-null     float64\n",
      " 8   Lunch_mean                73 non-null     float64\n",
      " 9   Lunch_std                 73 non-null     float64\n",
      " 10  Lunch_min                 73 non-null     float64\n",
      " 11  Lunch_max                 73 non-null     float64\n",
      " 12  Lunch_auc                 73 non-null     float64\n",
      " 13  Lunch_rate_of_change      73 non-null     float64\n",
      " 14  Breakfast Calories        73 non-null     float64\n",
      " 15  Breakfast Carbs           73 non-null     float64\n",
      " 16  Breakfast Fat             73 non-null     float64\n",
      " 17  Breakfast Protein         73 non-null     float64\n",
      "dtypes: float64(16), int64(2)\n",
      "memory usage: 10.4 KB\n"
     ]
    }
   ],
   "source": [
    "test_data.info()"
   ]
  },
  {
   "cell_type": "markdown",
   "metadata": {},
   "source": [
    "## Modeling"
   ]
  },
  {
   "cell_type": "markdown",
   "metadata": {},
   "source": [
    "### Train Test Split"
   ]
  },
  {
   "cell_type": "code",
   "execution_count": 14,
   "metadata": {},
   "outputs": [],
   "source": [
    "features = [\n",
    "    'Breakfast_mean', 'Breakfast_std', 'Breakfast_min', 'Breakfast_max',\n",
    "    'Breakfast_auc', 'Breakfast_rate_of_change', 'Breakfast Calories',\n",
    "    'Breakfast Carbs', 'Breakfast Fat', 'Breakfast Protein'\n",
    "]\n",
    "\n",
    "lunch_targets = ['Lunch Calories']\n",
    "X = training_data[features]\n",
    "y = training_data[lunch_targets]\n",
    "X_test = test_data[features]\n",
    "# Split into training and validation sets\n",
    "X_train, X_val, y_train, y_val = train_test_split(X, y, test_size=0.2, random_state=42)\n",
    "\n"
   ]
  },
  {
   "cell_type": "markdown",
   "metadata": {},
   "source": [
    "### Training"
   ]
  },
  {
   "cell_type": "code",
   "execution_count": 15,
   "metadata": {},
   "outputs": [],
   "source": [
    "model = LinearRegression()\n",
    "model.fit(X_train, y_train)\n",
    "\n",
    "# Predict on validation set\n",
    "y_pred = model.predict(X_val)"
   ]
  },
  {
   "cell_type": "markdown",
   "metadata": {},
   "source": [
    "### Evaluation"
   ]
  },
  {
   "cell_type": "code",
   "execution_count": 16,
   "metadata": {},
   "outputs": [],
   "source": [
    "# Evaluate the model\n",
    "mse = mean_squared_error(y_val, y_pred)\n",
    "mae = mean_absolute_error(y_val, y_pred)\n",
    "r2 = r2_score(y_val, y_pred)\n",
    "\n",
    "# Display results\n",
    "evaluation_results = pd.DataFrame({\n",
    "    'Target': lunch_targets,\n",
    "    'MSE': mse,\n",
    "    'MAE': mae,\n",
    "    'R2': r2\n",
    "})"
   ]
  },
  {
   "cell_type": "code",
   "execution_count": 17,
   "metadata": {},
   "outputs": [
    {
     "data": {
      "text/html": [
       "<div>\n",
       "<style scoped>\n",
       "    .dataframe tbody tr th:only-of-type {\n",
       "        vertical-align: middle;\n",
       "    }\n",
       "\n",
       "    .dataframe tbody tr th {\n",
       "        vertical-align: top;\n",
       "    }\n",
       "\n",
       "    .dataframe thead th {\n",
       "        text-align: right;\n",
       "    }\n",
       "</style>\n",
       "<table border=\"1\" class=\"dataframe\">\n",
       "  <thead>\n",
       "    <tr style=\"text-align: right;\">\n",
       "      <th></th>\n",
       "      <th>Target</th>\n",
       "      <th>MSE</th>\n",
       "      <th>MAE</th>\n",
       "      <th>R2</th>\n",
       "    </tr>\n",
       "  </thead>\n",
       "  <tbody>\n",
       "    <tr>\n",
       "      <th>0</th>\n",
       "      <td>Lunch Calories</td>\n",
       "      <td>35317.95532</td>\n",
       "      <td>113.643334</td>\n",
       "      <td>0.447912</td>\n",
       "    </tr>\n",
       "  </tbody>\n",
       "</table>\n",
       "</div>"
      ],
      "text/plain": [
       "           Target          MSE         MAE        R2\n",
       "0  Lunch Calories  35317.95532  113.643334  0.447912"
      ]
     },
     "execution_count": 17,
     "metadata": {},
     "output_type": "execute_result"
    }
   ],
   "source": [
    "evaluation_results"
   ]
  },
  {
   "cell_type": "markdown",
   "metadata": {},
   "source": [
    "### Predict on test set"
   ]
  },
  {
   "cell_type": "code",
   "execution_count": 18,
   "metadata": {},
   "outputs": [
    {
     "ename": "ValueError",
     "evalue": "Input X contains NaN.\nLinearRegression does not accept missing values encoded as NaN natively. For supervised learning, you might want to consider sklearn.ensemble.HistGradientBoostingClassifier and Regressor which accept missing values encoded as NaNs natively. Alternatively, it is possible to preprocess the data, for instance by using an imputer transformer in a pipeline or drop samples with missing values. See https://scikit-learn.org/stable/modules/impute.html You can find a list of all estimators that handle NaN values at the following page: https://scikit-learn.org/stable/modules/impute.html#estimators-that-handle-nan-values",
     "output_type": "error",
     "traceback": [
      "\u001b[1;31m---------------------------------------------------------------------------\u001b[0m",
      "\u001b[1;31mValueError\u001b[0m                                Traceback (most recent call last)",
      "Cell \u001b[1;32mIn[18], line 1\u001b[0m\n\u001b[1;32m----> 1\u001b[0m y_test_pred \u001b[38;5;241m=\u001b[39m \u001b[43mmodel\u001b[49m\u001b[38;5;241;43m.\u001b[39;49m\u001b[43mpredict\u001b[49m\u001b[43m(\u001b[49m\u001b[43mX_test\u001b[49m\u001b[43m)\u001b[49m\n",
      "File \u001b[1;32mc:\\Users\\Omar\\AppData\\Local\\Programs\\Python\\Python310\\lib\\site-packages\\sklearn\\linear_model\\_base.py:306\u001b[0m, in \u001b[0;36mLinearModel.predict\u001b[1;34m(self, X)\u001b[0m\n\u001b[0;32m    292\u001b[0m \u001b[38;5;28;01mdef\u001b[39;00m \u001b[38;5;21mpredict\u001b[39m(\u001b[38;5;28mself\u001b[39m, X):\n\u001b[0;32m    293\u001b[0m \u001b[38;5;250m    \u001b[39m\u001b[38;5;124;03m\"\"\"\u001b[39;00m\n\u001b[0;32m    294\u001b[0m \u001b[38;5;124;03m    Predict using the linear model.\u001b[39;00m\n\u001b[0;32m    295\u001b[0m \n\u001b[1;32m   (...)\u001b[0m\n\u001b[0;32m    304\u001b[0m \u001b[38;5;124;03m        Returns predicted values.\u001b[39;00m\n\u001b[0;32m    305\u001b[0m \u001b[38;5;124;03m    \"\"\"\u001b[39;00m\n\u001b[1;32m--> 306\u001b[0m     \u001b[38;5;28;01mreturn\u001b[39;00m \u001b[38;5;28;43mself\u001b[39;49m\u001b[38;5;241;43m.\u001b[39;49m\u001b[43m_decision_function\u001b[49m\u001b[43m(\u001b[49m\u001b[43mX\u001b[49m\u001b[43m)\u001b[49m\n",
      "File \u001b[1;32mc:\\Users\\Omar\\AppData\\Local\\Programs\\Python\\Python310\\lib\\site-packages\\sklearn\\linear_model\\_base.py:285\u001b[0m, in \u001b[0;36mLinearModel._decision_function\u001b[1;34m(self, X)\u001b[0m\n\u001b[0;32m    282\u001b[0m \u001b[38;5;28;01mdef\u001b[39;00m \u001b[38;5;21m_decision_function\u001b[39m(\u001b[38;5;28mself\u001b[39m, X):\n\u001b[0;32m    283\u001b[0m     check_is_fitted(\u001b[38;5;28mself\u001b[39m)\n\u001b[1;32m--> 285\u001b[0m     X \u001b[38;5;241m=\u001b[39m \u001b[38;5;28;43mself\u001b[39;49m\u001b[38;5;241;43m.\u001b[39;49m\u001b[43m_validate_data\u001b[49m\u001b[43m(\u001b[49m\u001b[43mX\u001b[49m\u001b[43m,\u001b[49m\u001b[43m \u001b[49m\u001b[43maccept_sparse\u001b[49m\u001b[38;5;241;43m=\u001b[39;49m\u001b[43m[\u001b[49m\u001b[38;5;124;43m\"\u001b[39;49m\u001b[38;5;124;43mcsr\u001b[39;49m\u001b[38;5;124;43m\"\u001b[39;49m\u001b[43m,\u001b[49m\u001b[43m \u001b[49m\u001b[38;5;124;43m\"\u001b[39;49m\u001b[38;5;124;43mcsc\u001b[39;49m\u001b[38;5;124;43m\"\u001b[39;49m\u001b[43m,\u001b[49m\u001b[43m \u001b[49m\u001b[38;5;124;43m\"\u001b[39;49m\u001b[38;5;124;43mcoo\u001b[39;49m\u001b[38;5;124;43m\"\u001b[39;49m\u001b[43m]\u001b[49m\u001b[43m,\u001b[49m\u001b[43m \u001b[49m\u001b[43mreset\u001b[49m\u001b[38;5;241;43m=\u001b[39;49m\u001b[38;5;28;43;01mFalse\u001b[39;49;00m\u001b[43m)\u001b[49m\n\u001b[0;32m    286\u001b[0m     coef_ \u001b[38;5;241m=\u001b[39m \u001b[38;5;28mself\u001b[39m\u001b[38;5;241m.\u001b[39mcoef_\n\u001b[0;32m    287\u001b[0m     \u001b[38;5;28;01mif\u001b[39;00m coef_\u001b[38;5;241m.\u001b[39mndim \u001b[38;5;241m==\u001b[39m \u001b[38;5;241m1\u001b[39m:\n",
      "File \u001b[1;32mc:\\Users\\Omar\\AppData\\Local\\Programs\\Python\\Python310\\lib\\site-packages\\sklearn\\base.py:633\u001b[0m, in \u001b[0;36mBaseEstimator._validate_data\u001b[1;34m(self, X, y, reset, validate_separately, cast_to_ndarray, **check_params)\u001b[0m\n\u001b[0;32m    631\u001b[0m         out \u001b[38;5;241m=\u001b[39m X, y\n\u001b[0;32m    632\u001b[0m \u001b[38;5;28;01melif\u001b[39;00m \u001b[38;5;129;01mnot\u001b[39;00m no_val_X \u001b[38;5;129;01mand\u001b[39;00m no_val_y:\n\u001b[1;32m--> 633\u001b[0m     out \u001b[38;5;241m=\u001b[39m check_array(X, input_name\u001b[38;5;241m=\u001b[39m\u001b[38;5;124m\"\u001b[39m\u001b[38;5;124mX\u001b[39m\u001b[38;5;124m\"\u001b[39m, \u001b[38;5;241m*\u001b[39m\u001b[38;5;241m*\u001b[39mcheck_params)\n\u001b[0;32m    634\u001b[0m \u001b[38;5;28;01melif\u001b[39;00m no_val_X \u001b[38;5;129;01mand\u001b[39;00m \u001b[38;5;129;01mnot\u001b[39;00m no_val_y:\n\u001b[0;32m    635\u001b[0m     out \u001b[38;5;241m=\u001b[39m _check_y(y, \u001b[38;5;241m*\u001b[39m\u001b[38;5;241m*\u001b[39mcheck_params)\n",
      "File \u001b[1;32mc:\\Users\\Omar\\AppData\\Local\\Programs\\Python\\Python310\\lib\\site-packages\\sklearn\\utils\\validation.py:1064\u001b[0m, in \u001b[0;36mcheck_array\u001b[1;34m(array, accept_sparse, accept_large_sparse, dtype, order, copy, force_writeable, force_all_finite, ensure_2d, allow_nd, ensure_min_samples, ensure_min_features, estimator, input_name)\u001b[0m\n\u001b[0;32m   1058\u001b[0m     \u001b[38;5;28;01mraise\u001b[39;00m \u001b[38;5;167;01mValueError\u001b[39;00m(\n\u001b[0;32m   1059\u001b[0m         \u001b[38;5;124m\"\u001b[39m\u001b[38;5;124mFound array with dim \u001b[39m\u001b[38;5;132;01m%d\u001b[39;00m\u001b[38;5;124m. \u001b[39m\u001b[38;5;132;01m%s\u001b[39;00m\u001b[38;5;124m expected <= 2.\u001b[39m\u001b[38;5;124m\"\u001b[39m\n\u001b[0;32m   1060\u001b[0m         \u001b[38;5;241m%\u001b[39m (array\u001b[38;5;241m.\u001b[39mndim, estimator_name)\n\u001b[0;32m   1061\u001b[0m     )\n\u001b[0;32m   1063\u001b[0m \u001b[38;5;28;01mif\u001b[39;00m force_all_finite:\n\u001b[1;32m-> 1064\u001b[0m     \u001b[43m_assert_all_finite\u001b[49m\u001b[43m(\u001b[49m\n\u001b[0;32m   1065\u001b[0m \u001b[43m        \u001b[49m\u001b[43marray\u001b[49m\u001b[43m,\u001b[49m\n\u001b[0;32m   1066\u001b[0m \u001b[43m        \u001b[49m\u001b[43minput_name\u001b[49m\u001b[38;5;241;43m=\u001b[39;49m\u001b[43minput_name\u001b[49m\u001b[43m,\u001b[49m\n\u001b[0;32m   1067\u001b[0m \u001b[43m        \u001b[49m\u001b[43mestimator_name\u001b[49m\u001b[38;5;241;43m=\u001b[39;49m\u001b[43mestimator_name\u001b[49m\u001b[43m,\u001b[49m\n\u001b[0;32m   1068\u001b[0m \u001b[43m        \u001b[49m\u001b[43mallow_nan\u001b[49m\u001b[38;5;241;43m=\u001b[39;49m\u001b[43mforce_all_finite\u001b[49m\u001b[43m \u001b[49m\u001b[38;5;241;43m==\u001b[39;49m\u001b[43m \u001b[49m\u001b[38;5;124;43m\"\u001b[39;49m\u001b[38;5;124;43mallow-nan\u001b[39;49m\u001b[38;5;124;43m\"\u001b[39;49m\u001b[43m,\u001b[49m\n\u001b[0;32m   1069\u001b[0m \u001b[43m    \u001b[49m\u001b[43m)\u001b[49m\n\u001b[0;32m   1071\u001b[0m \u001b[38;5;28;01mif\u001b[39;00m copy:\n\u001b[0;32m   1072\u001b[0m     \u001b[38;5;28;01mif\u001b[39;00m _is_numpy_namespace(xp):\n\u001b[0;32m   1073\u001b[0m         \u001b[38;5;66;03m# only make a copy if `array` and `array_orig` may share memory`\u001b[39;00m\n",
      "File \u001b[1;32mc:\\Users\\Omar\\AppData\\Local\\Programs\\Python\\Python310\\lib\\site-packages\\sklearn\\utils\\validation.py:123\u001b[0m, in \u001b[0;36m_assert_all_finite\u001b[1;34m(X, allow_nan, msg_dtype, estimator_name, input_name)\u001b[0m\n\u001b[0;32m    120\u001b[0m \u001b[38;5;28;01mif\u001b[39;00m first_pass_isfinite:\n\u001b[0;32m    121\u001b[0m     \u001b[38;5;28;01mreturn\u001b[39;00m\n\u001b[1;32m--> 123\u001b[0m \u001b[43m_assert_all_finite_element_wise\u001b[49m\u001b[43m(\u001b[49m\n\u001b[0;32m    124\u001b[0m \u001b[43m    \u001b[49m\u001b[43mX\u001b[49m\u001b[43m,\u001b[49m\n\u001b[0;32m    125\u001b[0m \u001b[43m    \u001b[49m\u001b[43mxp\u001b[49m\u001b[38;5;241;43m=\u001b[39;49m\u001b[43mxp\u001b[49m\u001b[43m,\u001b[49m\n\u001b[0;32m    126\u001b[0m \u001b[43m    \u001b[49m\u001b[43mallow_nan\u001b[49m\u001b[38;5;241;43m=\u001b[39;49m\u001b[43mallow_nan\u001b[49m\u001b[43m,\u001b[49m\n\u001b[0;32m    127\u001b[0m \u001b[43m    \u001b[49m\u001b[43mmsg_dtype\u001b[49m\u001b[38;5;241;43m=\u001b[39;49m\u001b[43mmsg_dtype\u001b[49m\u001b[43m,\u001b[49m\n\u001b[0;32m    128\u001b[0m \u001b[43m    \u001b[49m\u001b[43mestimator_name\u001b[49m\u001b[38;5;241;43m=\u001b[39;49m\u001b[43mestimator_name\u001b[49m\u001b[43m,\u001b[49m\n\u001b[0;32m    129\u001b[0m \u001b[43m    \u001b[49m\u001b[43minput_name\u001b[49m\u001b[38;5;241;43m=\u001b[39;49m\u001b[43minput_name\u001b[49m\u001b[43m,\u001b[49m\n\u001b[0;32m    130\u001b[0m \u001b[43m\u001b[49m\u001b[43m)\u001b[49m\n",
      "File \u001b[1;32mc:\\Users\\Omar\\AppData\\Local\\Programs\\Python\\Python310\\lib\\site-packages\\sklearn\\utils\\validation.py:172\u001b[0m, in \u001b[0;36m_assert_all_finite_element_wise\u001b[1;34m(X, xp, allow_nan, msg_dtype, estimator_name, input_name)\u001b[0m\n\u001b[0;32m    155\u001b[0m \u001b[38;5;28;01mif\u001b[39;00m estimator_name \u001b[38;5;129;01mand\u001b[39;00m input_name \u001b[38;5;241m==\u001b[39m \u001b[38;5;124m\"\u001b[39m\u001b[38;5;124mX\u001b[39m\u001b[38;5;124m\"\u001b[39m \u001b[38;5;129;01mand\u001b[39;00m has_nan_error:\n\u001b[0;32m    156\u001b[0m     \u001b[38;5;66;03m# Improve the error message on how to handle missing values in\u001b[39;00m\n\u001b[0;32m    157\u001b[0m     \u001b[38;5;66;03m# scikit-learn.\u001b[39;00m\n\u001b[0;32m    158\u001b[0m     msg_err \u001b[38;5;241m+\u001b[39m\u001b[38;5;241m=\u001b[39m (\n\u001b[0;32m    159\u001b[0m         \u001b[38;5;124mf\u001b[39m\u001b[38;5;124m\"\u001b[39m\u001b[38;5;130;01m\\n\u001b[39;00m\u001b[38;5;132;01m{\u001b[39;00mestimator_name\u001b[38;5;132;01m}\u001b[39;00m\u001b[38;5;124m does not accept missing values\u001b[39m\u001b[38;5;124m\"\u001b[39m\n\u001b[0;32m    160\u001b[0m         \u001b[38;5;124m\"\u001b[39m\u001b[38;5;124m encoded as NaN natively. For supervised learning, you might want\u001b[39m\u001b[38;5;124m\"\u001b[39m\n\u001b[1;32m   (...)\u001b[0m\n\u001b[0;32m    170\u001b[0m         \u001b[38;5;124m\"\u001b[39m\u001b[38;5;124m#estimators-that-handle-nan-values\u001b[39m\u001b[38;5;124m\"\u001b[39m\n\u001b[0;32m    171\u001b[0m     )\n\u001b[1;32m--> 172\u001b[0m \u001b[38;5;28;01mraise\u001b[39;00m \u001b[38;5;167;01mValueError\u001b[39;00m(msg_err)\n",
      "\u001b[1;31mValueError\u001b[0m: Input X contains NaN.\nLinearRegression does not accept missing values encoded as NaN natively. For supervised learning, you might want to consider sklearn.ensemble.HistGradientBoostingClassifier and Regressor which accept missing values encoded as NaNs natively. Alternatively, it is possible to preprocess the data, for instance by using an imputer transformer in a pipeline or drop samples with missing values. See https://scikit-learn.org/stable/modules/impute.html You can find a list of all estimators that handle NaN values at the following page: https://scikit-learn.org/stable/modules/impute.html#estimators-that-handle-nan-values"
     ]
    }
   ],
   "source": [
    "y_test_pred = model.predict(X_test)"
   ]
  },
  {
   "cell_type": "code",
   "execution_count": null,
   "metadata": {},
   "outputs": [],
   "source": [
    "y_test_pred_df = pd.DataFrame(y_test_pred, columns = ['label'])"
   ]
  },
  {
   "cell_type": "code",
   "execution_count": null,
   "metadata": {},
   "outputs": [
    {
     "data": {
      "text/html": [
       "<div>\n",
       "<style scoped>\n",
       "    .dataframe tbody tr th:only-of-type {\n",
       "        vertical-align: middle;\n",
       "    }\n",
       "\n",
       "    .dataframe tbody tr th {\n",
       "        vertical-align: top;\n",
       "    }\n",
       "\n",
       "    .dataframe thead th {\n",
       "        text-align: right;\n",
       "    }\n",
       "</style>\n",
       "<table border=\"1\" class=\"dataframe\">\n",
       "  <thead>\n",
       "    <tr style=\"text-align: right;\">\n",
       "      <th></th>\n",
       "      <th>label</th>\n",
       "    </tr>\n",
       "  </thead>\n",
       "  <tbody>\n",
       "    <tr>\n",
       "      <th>0</th>\n",
       "      <td>784.735830</td>\n",
       "    </tr>\n",
       "    <tr>\n",
       "      <th>1</th>\n",
       "      <td>474.528670</td>\n",
       "    </tr>\n",
       "    <tr>\n",
       "      <th>2</th>\n",
       "      <td>740.025771</td>\n",
       "    </tr>\n",
       "    <tr>\n",
       "      <th>3</th>\n",
       "      <td>803.815691</td>\n",
       "    </tr>\n",
       "    <tr>\n",
       "      <th>4</th>\n",
       "      <td>479.366005</td>\n",
       "    </tr>\n",
       "    <tr>\n",
       "      <th>...</th>\n",
       "      <td>...</td>\n",
       "    </tr>\n",
       "    <tr>\n",
       "      <th>60</th>\n",
       "      <td>608.380700</td>\n",
       "    </tr>\n",
       "    <tr>\n",
       "      <th>61</th>\n",
       "      <td>819.111877</td>\n",
       "    </tr>\n",
       "    <tr>\n",
       "      <th>62</th>\n",
       "      <td>489.472449</td>\n",
       "    </tr>\n",
       "    <tr>\n",
       "      <th>63</th>\n",
       "      <td>600.045330</td>\n",
       "    </tr>\n",
       "    <tr>\n",
       "      <th>64</th>\n",
       "      <td>750.746940</td>\n",
       "    </tr>\n",
       "  </tbody>\n",
       "</table>\n",
       "<p>65 rows × 1 columns</p>\n",
       "</div>"
      ],
      "text/plain": [
       "         label\n",
       "0   784.735830\n",
       "1   474.528670\n",
       "2   740.025771\n",
       "3   803.815691\n",
       "4   479.366005\n",
       "..         ...\n",
       "60  608.380700\n",
       "61  819.111877\n",
       "62  489.472449\n",
       "63  600.045330\n",
       "64  750.746940\n",
       "\n",
       "[65 rows x 1 columns]"
      ]
     },
     "execution_count": 29,
     "metadata": {},
     "output_type": "execute_result"
    }
   ],
   "source": [
    "y_test_pred_df"
   ]
  },
  {
   "cell_type": "code",
   "execution_count": null,
   "metadata": {},
   "outputs": [],
   "source": [
    "submissions = y_test_pred_df.to_csv(\"dirty_first_model.csv\")"
   ]
  },
  {
   "cell_type": "code",
   "execution_count": null,
   "metadata": {},
   "outputs": [],
   "source": []
  }
 ],
 "metadata": {
  "kernelspec": {
   "display_name": "Python 3",
   "language": "python",
   "name": "python3"
  },
  "language_info": {
   "codemirror_mode": {
    "name": "ipython",
    "version": 3
   },
   "file_extension": ".py",
   "mimetype": "text/x-python",
   "name": "python",
   "nbconvert_exporter": "python",
   "pygments_lexer": "ipython3",
   "version": "3.10.0rc2"
  }
 },
 "nbformat": 4,
 "nbformat_minor": 2
}
